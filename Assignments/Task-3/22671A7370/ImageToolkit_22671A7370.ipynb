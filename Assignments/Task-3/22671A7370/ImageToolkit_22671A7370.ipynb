{
 "cells": [
  {
   "cell_type": "markdown",
   "id": "6c9d8850",
   "metadata": {},
   "source": [
    "\n",
    "This notebook demonstrates the theory and practice of common image processing techniques using OpenCV, NumPy, and PIL.\n",
    "It covers:\n",
    "- Image fundamentals\n",
    "- Color conversions\n",
    "- Transformations\n",
    "- Filtering & Morphology\n",
    "- Enhancement\n",
    "- Edge Detection\n",
    "- Compression\n"
   ]
  },
  {
   "cell_type": "markdown",
   "id": "b07b3d05",
   "metadata": {},
   "source": [
    "1.import libraries :\n",
    "import cv2\n",
    "import numpy as np\n",
    "from PIL import Image\n",
    "import matplotlib.pyplot as plt\n"
   ]
  },
  {
   "cell_type": "code",
   "execution_count": null,
   "id": "bc3ac382",
   "metadata": {
    "vscode": {
     "languageId": "plaintext"
    }
   },
   "outputs": [],
   "source": [
    "import cv2\n",
    "import numpy as np\n",
    "from PIL import Image\n",
    "import matplotlib.pyplot as plt\n",
    "\n",
    "# Helper function to display images\n",
    "def show_image(img, title=\"Image\"):\n",
    "    if len(img.shape) == 2:  # grayscale\n",
    "        plt.imshow(img, cmap=\"gray\")\n",
    "    else:  # color\n",
    "        plt.imshow(cv2.cvtColor(img, cv2.COLOR_BGR2RGB))\n",
    "    plt.title(title)\n",
    "    plt.axis(\"off\")\n",
    "    plt.show()\n",
    "\n",
    "# Manual color conversions\n",
    "def rgb_to_gray_manual(img):\n",
    "    return np.dot(img[...,:3], [0.299, 0.587, 0.114]).astype(np.uint8)\n",
    "\n",
    "def rgb_to_hsv_manual(img):\n",
    "    img = img.astype(\"float32\") / 255.0\n",
    "    r, g, b = img[...,0], img[...,1], img[...,2]\n",
    "    maxc = np.max(img, axis=-1)\n",
    "    minc = np.min(img, axis=-1)\n",
    "    delta = maxc - minc\n",
    "    hue = np.zeros_like(maxc)\n",
    "    mask = delta != 0\n",
    "    hue[mask & (maxc==r)] = (60*((g[mask]-b[mask])/delta[mask])+360)%360\n",
    "    hue[mask & (maxc==g)] = (60*((b[mask]-r[mask])/delta[mask])+120)%360\n",
    "    hue[mask & (maxc==b)] = (60*((r[mask]-g[mask])/delta[mask])+240)%360\n",
    "    sat = np.zeros_like(maxc)\n",
    "    sat[maxc!=0] = (delta[maxc!=0]/maxc[maxc!=0])\n",
    "    val = maxc\n",
    "    hsv = np.stack([hue/2, sat*255, val*255], axis=-1).astype(np.uint8)\n",
    "    return hsv\n",
    "\n",
    "def rgb_to_ycbcr_manual(img):\n",
    "    mat = np.array([[0.299, 0.587, 0.114],\n",
    "                    [-0.1687, -0.3313, 0.5],\n",
    "                    [0.5, -0.4187, -0.0813]])\n",
    "    shift = np.array([0,128,128])\n",
    "    ycbcr = img @ mat.T + shift\n",
    "    return np.clip(ycbcr,0,255).astype(np.uint8)\n"
   ]
  },
  {
   "cell_type": "markdown",
   "id": "a5421ba1",
   "metadata": {},
   "source": [
    "2.Load and Display Image :"
   ]
  },
  {
   "cell_type": "code",
   "execution_count": null,
   "id": "5b94c16c",
   "metadata": {
    "vscode": {
     "languageId": "plaintext"
    }
   },
   "outputs": [],
   "source": [
    "# Load image\n",
    "img_path = \"sample.jpg\"  # replace with your image path\n",
    "img = cv2.imread(img_path)\n",
    "\n",
    "# Display original image\n",
    "show_image(img, \"Original Image\")\n"
   ]
  },
  {
   "cell_type": "markdown",
   "id": "3c42b6ce",
   "metadata": {},
   "source": [
    "3. Color Conversions:\n",
    "We demonstrate RGB → Grayscale, HSV, and YCbCr using both OpenCV and manual formulas."
   ]
  },
  {
   "cell_type": "code",
   "execution_count": null,
   "id": "b24f9893",
   "metadata": {
    "vscode": {
     "languageId": "plaintext"
    }
   },
   "outputs": [],
   "source": [
    "# OpenCV conversions\n",
    "gray_cv = cv2.cvtColor(img, cv2.COLOR_BGR2GRAY)\n",
    "hsv_cv = cv2.cvtColor(img, cv2.COLOR_BGR2HSV)\n",
    "ycbcr_cv = cv2.cvtColor(img, cv2.COLOR_BGR2YCrCb)\n",
    "\n",
    "# Manual conversions\n",
    "gray_manual = rgb_to_gray_manual(img)\n",
    "hsv_manual = rgb_to_hsv_manual(img)\n",
    "ycbcr_manual = rgb_to_ycbcr_manual(img)\n",
    "\n",
    "# Display\n",
    "show_image(gray_cv, \"Grayscale (OpenCV)\")\n",
    "show_image(gray_manual, \"Grayscale (Manual)\")\n"
   ]
  },
  {
   "cell_type": "markdown",
   "id": "bb63d569",
   "metadata": {},
   "source": [
    "4.Geometric Transformations :\n",
    "- Translation (Shift)\n",
    "- Rotation\n",
    "- Scaling (Resize)\n",
    "- Affine Transform\n",
    "- Perspective Transform"
   ]
  },
  {
   "cell_type": "code",
   "execution_count": null,
   "id": "9352e366",
   "metadata": {
    "vscode": {
     "languageId": "plaintext"
    }
   },
   "outputs": [],
   "source": [
    "h, w = img.shape[:2]\n",
    "M = np.float32([[1, 0, 50], [0, 1, 30]])  # shift x=50, y=30\n",
    "translated = cv2.warpAffine(img, M, (w,h))\n",
    "show_image(translated, \"Translated Image\")"
   ]
  },
  {
   "cell_type": "markdown",
   "id": "31f415c6",
   "metadata": {},
   "source": [
    "5.Filtering & Morphology :\n",
    "\n",
    "Demonstrate Gaussian, Median, Mean filters and Morphological operations like Dilation, Erosion, Opening, Closing.\n"
   ]
  },
  {
   "cell_type": "code",
   "execution_count": null,
   "id": "ef0e3bcf",
   "metadata": {
    "vscode": {
     "languageId": "plaintext"
    }
   },
   "outputs": [],
   "source": [
    "gaussian = cv2.GaussianBlur(img, (5,5), 0)\n",
    "show_image(gaussian, \"Gaussian Blur\")"
   ]
  },
  {
   "cell_type": "markdown",
   "id": "fe4a380e",
   "metadata": {},
   "source": [
    "6.Image Enhancement :\n",
    "- Histogram Equalization\n",
    "- Contrast Stretching\n",
    "- Sharpening"
   ]
  },
  {
   "cell_type": "code",
   "execution_count": null,
   "id": "80b41927",
   "metadata": {
    "vscode": {
     "languageId": "plaintext"
    }
   },
   "outputs": [],
   "source": [
    "gray = cv2.cvtColor(img, cv2.COLOR_BGR2GRAY)\n",
    "equalized = cv2.equalizeHist(gray)\n",
    "show_image(equalized, \"Histogram Equalized\")"
   ]
  },
  {
   "cell_type": "markdown",
   "id": "08eb06a1",
   "metadata": {},
   "source": [
    "7.Edge Detection :\n",
    "- Sobel\n",
    "- Laplacian\n",
    "- Canny"
   ]
  },
  {
   "cell_type": "code",
   "execution_count": null,
   "id": "5d32797c",
   "metadata": {
    "vscode": {
     "languageId": "plaintext"
    }
   },
   "outputs": [],
   "source": [
    "gray = cv2.cvtColor(img, cv2.COLOR_BGR2GRAY)\n",
    "sobel = cv2.Sobel(gray, cv2.CV_64F, 1, 0, ksize=3)\n",
    "sobel = cv2.convertScaleAbs(sobel)\n",
    "show_image(sobel, \"Sobel Edge Detection\")"
   ]
  },
  {
   "cell_type": "markdown",
   "id": "e5b9c8ef",
   "metadata": {},
   "source": [
    "8.Compression :\n",
    "Demonstrate saving images in different formats and comparing file sizes."
   ]
  },
  {
   "cell_type": "code",
   "execution_count": null,
   "id": "5f19ce87",
   "metadata": {
    "vscode": {
     "languageId": "plaintext"
    }
   },
   "outputs": [],
   "source": [
    "from PIL import Image\n",
    "import io\n",
    "\n",
    "# Convert to PIL Image\n",
    "pil_img = Image.fromarray(cv2.cvtColor(img, cv2.COLOR_BGR2RGB))\n",
    "\n",
    "# Save as JPEG\n",
    "buffer = io.BytesIO()\n",
    "pil_img.save(buffer, format=\"JPEG\", quality=90)\n",
    "print(f\"JPEG Size: {buffer.getbuffer().nbytes//1024} KB\")\n",
    "\n",
    "# Save as PNG\n",
    "buffer2 = io.BytesIO()\n",
    "pil_img.save(buffer2, format=\"PNG\")\n",
    "print(f\"PNG Size: {buffer2.getbuffer().nbytes//1024} KB\")"
   ]
  }
 ],
 "metadata": {
  "language_info": {
   "name": "python"
  }
 },
 "nbformat": 4,
 "nbformat_minor": 5
}
