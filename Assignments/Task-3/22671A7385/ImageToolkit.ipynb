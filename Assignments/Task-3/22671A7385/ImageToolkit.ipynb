{
 "cells": [
  {
   "cell_type": "markdown",
   "metadata": {},
   "source": [
    "## This Toolkit aims to implement the basic image processing tools and libraries. This exercise will serve as an understing to the operations implemented in the Streamlit GUI using basic maths and visualization (Open CV and othe high level packages are not used here)"
   ]
  },
  {
   "cell_type": "markdown",
   "metadata": {},
   "source": [
    "### Let's first import basic image processing or related libraries"
   ]
  },
  {
   "cell_type": "code",
   "execution_count": 1,
   "metadata": {},
   "outputs": [],
   "source": [
    "from PIL import Image\n",
    "import matplotlib.pyplot as plt\n",
    "%matplotlib widget\n",
    "import numpy as np"
   ]
  },
  {
   "cell_type": "markdown",
   "metadata": {},
   "source": [
    "### First load an image and visualize it"
   ]
  },
  {
   "cell_type": "code",
   "execution_count": 2,
   "metadata": {},
   "outputs": [
    {
     "data": {
      "application/vnd.jupyter.widget-view+json": {
       "model_id": "c463734b68cc42bf82d4628398085f04",
       "version_major": 2,
       "version_minor": 0
      },
      "text/plain": [
       "Canvas(toolbar=Toolbar(toolitems=[('Home', 'Reset original view', 'home', 'home'), ('Back', 'Back to previous …"
      ]
     },
     "metadata": {},
     "output_type": "display_data"
    },
    {
     "data": {
      "text/plain": [
       "<matplotlib.image.AxesImage at 0x1cf25017820>"
      ]
     },
     "execution_count": 2,
     "metadata": {},
     "output_type": "execute_result"
    }
   ],
   "source": [
    "image = plt.imread(\"Lenna.png\")\n",
    "plt.imshow(image)"
   ]
  },
  {
   "cell_type": "markdown",
   "metadata": {},
   "source": [
    "### Finding dimensions of the image"
   ]
  },
  {
   "cell_type": "code",
   "execution_count": 3,
   "metadata": {},
   "outputs": [
    {
     "name": "stdout",
     "output_type": "stream",
     "text": [
      "Image Dimensions: 512 x 512\n",
      "Channels: 3\n"
     ]
    }
   ],
   "source": [
    "height, width, channels = image.shape\n",
    "print(f\"Image Dimensions: {width} x {height}\")\n",
    "print(f\"Channels: {channels}\")"
   ]
  },
  {
   "cell_type": "markdown",
   "metadata": {},
   "source": [
    "### An RGB image can be decomposed into three channels, Red(R), Green(G), Blue(B). In this subsection, let's visualize each channel separately"
   ]
  },
  {
   "cell_type": "code",
   "execution_count": 4,
   "metadata": {},
   "outputs": [],
   "source": [
    "def VisualizeChannel(image,channel):\n",
    "    '''\n",
    "    This function is helpful to visualize a specific channel of an RGB image.\n",
    "    image: RGB image\n",
    "    channel: channel, one wish to visualize (can take value 0 (for red), 1(green), 2(blue))\n",
    "    '''\n",
    "    %matplotlib widget\n",
    "    #write your code here\n",
    "    \n",
    "    # Initialize an array of zeros with the same shape as the original image\n",
    "    channel_image = np.zeros_like(image)\n",
    "    \n",
    "    # Set the selected channel to the original image's channel values\n",
    "    channel_image[..., channel] = image[..., channel]\n",
    "    \n",
    "    # Get the min and max intensity values for the channel\n",
    "    min_intensity = np.min(channel_image)\n",
    "    max_intensity = np.max(channel_image)\n",
    "    #print(f\"Channel {['Red', 'Green', 'Blue'][channel]} - Min Intensity: {min_intensity}, Max Intensity: {max_intensity}\")\n",
    "    \n",
    "    plt.imshow(channel_image)\n",
    "    plt.title(f'Channel {[\"Red\", \"Green\", \"Blue\"][channel]}')\n",
    "    plt.axis('off')  # Hide axis\n",
    "    plt.show()\n",
    "    \n",
    "    \n",
    "    return channel_image    # 'output' is image's particular channel values"
   ]
  },
  {
   "cell_type": "code",
   "execution_count": 5,
   "metadata": {},
   "outputs": [
    {
     "data": {
      "application/vnd.jupyter.widget-view+json": {
       "model_id": "c05f9569affd43b6b6f025b026831b07",
       "version_major": 2,
       "version_minor": 0
      },
      "text/plain": [
       "Canvas(toolbar=Toolbar(toolitems=[('Home', 'Reset original view', 'home', 'home'), ('Back', 'Back to previous …"
      ]
     },
     "metadata": {},
     "output_type": "display_data"
    },
    {
     "data": {
      "text/plain": [
       "array([[[0.8862745 , 0.        , 0.        ],\n",
       "        [0.8862745 , 0.        , 0.        ],\n",
       "        [0.8745098 , 0.        , 0.        ],\n",
       "        ...,\n",
       "        [0.9019608 , 0.        , 0.        ],\n",
       "        [0.8666667 , 0.        , 0.        ],\n",
       "        [0.78431374, 0.        , 0.        ]],\n",
       "\n",
       "       [[0.8862745 , 0.        , 0.        ],\n",
       "        [0.8862745 , 0.        , 0.        ],\n",
       "        [0.8745098 , 0.        , 0.        ],\n",
       "        ...,\n",
       "        [0.9019608 , 0.        , 0.        ],\n",
       "        [0.8666667 , 0.        , 0.        ],\n",
       "        [0.78431374, 0.        , 0.        ]],\n",
       "\n",
       "       [[0.8862745 , 0.        , 0.        ],\n",
       "        [0.8862745 , 0.        , 0.        ],\n",
       "        [0.8745098 , 0.        , 0.        ],\n",
       "        ...,\n",
       "        [0.9019608 , 0.        , 0.        ],\n",
       "        [0.8666667 , 0.        , 0.        ],\n",
       "        [0.78431374, 0.        , 0.        ]],\n",
       "\n",
       "       ...,\n",
       "\n",
       "       [[0.32941177, 0.        , 0.        ],\n",
       "        [0.32941177, 0.        , 0.        ],\n",
       "        [0.36078432, 0.        , 0.        ],\n",
       "        ...,\n",
       "        [0.6784314 , 0.        , 0.        ],\n",
       "        [0.6745098 , 0.        , 0.        ],\n",
       "        [0.69411767, 0.        , 0.        ]],\n",
       "\n",
       "       [[0.32156864, 0.        , 0.        ],\n",
       "        [0.32156864, 0.        , 0.        ],\n",
       "        [0.3764706 , 0.        , 0.        ],\n",
       "        ...,\n",
       "        [0.7019608 , 0.        , 0.        ],\n",
       "        [0.70980394, 0.        , 0.        ],\n",
       "        [0.7254902 , 0.        , 0.        ]],\n",
       "\n",
       "       [[0.32156864, 0.        , 0.        ],\n",
       "        [0.32156864, 0.        , 0.        ],\n",
       "        [0.3764706 , 0.        , 0.        ],\n",
       "        ...,\n",
       "        [0.7019608 , 0.        , 0.        ],\n",
       "        [0.70980394, 0.        , 0.        ],\n",
       "        [0.7254902 , 0.        , 0.        ]]], dtype=float32)"
      ]
     },
     "execution_count": 5,
     "metadata": {},
     "output_type": "execute_result"
    }
   ],
   "source": [
    "# Visualizing red channel\n",
    "VisualizeChannel(image, 0)  # Red channel"
   ]
  },
  {
   "cell_type": "code",
   "execution_count": 6,
   "metadata": {},
   "outputs": [
    {
     "data": {
      "application/vnd.jupyter.widget-view+json": {
       "model_id": "bf6bce98842045c0bb52918532ee2981",
       "version_major": 2,
       "version_minor": 0
      },
      "text/plain": [
       "Canvas(toolbar=Toolbar(toolitems=[('Home', 'Reset original view', 'home', 'home'), ('Back', 'Back to previous …"
      ]
     },
     "metadata": {},
     "output_type": "display_data"
    },
    {
     "data": {
      "text/plain": [
       "array([[[0.        , 0.5372549 , 0.        ],\n",
       "        [0.        , 0.5372549 , 0.        ],\n",
       "        [0.        , 0.5372549 , 0.        ],\n",
       "        ...,\n",
       "        [0.        , 0.5803922 , 0.        ],\n",
       "        [0.        , 0.50980395, 0.        ],\n",
       "        [0.        , 0.3882353 , 0.        ]],\n",
       "\n",
       "       [[0.        , 0.5372549 , 0.        ],\n",
       "        [0.        , 0.5372549 , 0.        ],\n",
       "        [0.        , 0.5372549 , 0.        ],\n",
       "        ...,\n",
       "        [0.        , 0.5803922 , 0.        ],\n",
       "        [0.        , 0.50980395, 0.        ],\n",
       "        [0.        , 0.3882353 , 0.        ]],\n",
       "\n",
       "       [[0.        , 0.5372549 , 0.        ],\n",
       "        [0.        , 0.5372549 , 0.        ],\n",
       "        [0.        , 0.5372549 , 0.        ],\n",
       "        ...,\n",
       "        [0.        , 0.5803922 , 0.        ],\n",
       "        [0.        , 0.50980395, 0.        ],\n",
       "        [0.        , 0.3882353 , 0.        ]],\n",
       "\n",
       "       ...,\n",
       "\n",
       "       [[0.        , 0.07058824, 0.        ],\n",
       "        [0.        , 0.07058824, 0.        ],\n",
       "        [0.        , 0.10588235, 0.        ],\n",
       "        ...,\n",
       "        [0.        , 0.28627452, 0.        ],\n",
       "        [0.        , 0.26666668, 0.        ],\n",
       "        [0.        , 0.24313726, 0.        ]],\n",
       "\n",
       "       [[0.        , 0.08627451, 0.        ],\n",
       "        [0.        , 0.08627451, 0.        ],\n",
       "        [0.        , 0.1254902 , 0.        ],\n",
       "        ...,\n",
       "        [0.        , 0.27450982, 0.        ],\n",
       "        [0.        , 0.2784314 , 0.        ],\n",
       "        [0.        , 0.2901961 , 0.        ]],\n",
       "\n",
       "       [[0.        , 0.08627451, 0.        ],\n",
       "        [0.        , 0.08627451, 0.        ],\n",
       "        [0.        , 0.1254902 , 0.        ],\n",
       "        ...,\n",
       "        [0.        , 0.27450982, 0.        ],\n",
       "        [0.        , 0.2784314 , 0.        ],\n",
       "        [0.        , 0.2901961 , 0.        ]]], dtype=float32)"
      ]
     },
     "execution_count": 6,
     "metadata": {},
     "output_type": "execute_result"
    }
   ],
   "source": [
    "VisualizeChannel(image, 1)  # Green channel"
   ]
  },
  {
   "cell_type": "code",
   "execution_count": 7,
   "metadata": {},
   "outputs": [
    {
     "data": {
      "application/vnd.jupyter.widget-view+json": {
       "model_id": "281888abfe1c4fab8bb7ff8fd2602b1b",
       "version_major": 2,
       "version_minor": 0
      },
      "text/plain": [
       "Canvas(toolbar=Toolbar(toolitems=[('Home', 'Reset original view', 'home', 'home'), ('Back', 'Back to previous …"
      ]
     },
     "metadata": {},
     "output_type": "display_data"
    },
    {
     "data": {
      "text/plain": [
       "array([[[0.        , 0.        , 0.49019608],\n",
       "        [0.        , 0.        , 0.49019608],\n",
       "        [0.        , 0.        , 0.52156866],\n",
       "        ...,\n",
       "        [0.        , 0.        , 0.47843137],\n",
       "        [0.        , 0.        , 0.43137255],\n",
       "        [0.        , 0.        , 0.3529412 ]],\n",
       "\n",
       "       [[0.        , 0.        , 0.49019608],\n",
       "        [0.        , 0.        , 0.49019608],\n",
       "        [0.        , 0.        , 0.52156866],\n",
       "        ...,\n",
       "        [0.        , 0.        , 0.47843137],\n",
       "        [0.        , 0.        , 0.43137255],\n",
       "        [0.        , 0.        , 0.3529412 ]],\n",
       "\n",
       "       [[0.        , 0.        , 0.49019608],\n",
       "        [0.        , 0.        , 0.49019608],\n",
       "        [0.        , 0.        , 0.52156866],\n",
       "        ...,\n",
       "        [0.        , 0.        , 0.47843137],\n",
       "        [0.        , 0.        , 0.43137255],\n",
       "        [0.        , 0.        , 0.3529412 ]],\n",
       "\n",
       "       ...,\n",
       "\n",
       "       [[0.        , 0.        , 0.23529412],\n",
       "        [0.        , 0.        , 0.23529412],\n",
       "        [0.        , 0.        , 0.22745098],\n",
       "        ...,\n",
       "        [0.        , 0.        , 0.32941177],\n",
       "        [0.        , 0.        , 0.29803923],\n",
       "        [0.        , 0.        , 0.30980393]],\n",
       "\n",
       "       [[0.        , 0.        , 0.22352941],\n",
       "        [0.        , 0.        , 0.22352941],\n",
       "        [0.        , 0.        , 0.24313726],\n",
       "        ...,\n",
       "        [0.        , 0.        , 0.30980393],\n",
       "        [0.        , 0.        , 0.31764707],\n",
       "        [0.        , 0.        , 0.31764707]],\n",
       "\n",
       "       [[0.        , 0.        , 0.22352941],\n",
       "        [0.        , 0.        , 0.22352941],\n",
       "        [0.        , 0.        , 0.24313726],\n",
       "        ...,\n",
       "        [0.        , 0.        , 0.30980393],\n",
       "        [0.        , 0.        , 0.31764707],\n",
       "        [0.        , 0.        , 0.31764707]]], dtype=float32)"
      ]
     },
     "execution_count": 7,
     "metadata": {},
     "output_type": "execute_result"
    }
   ],
   "source": [
    "VisualizeChannel(image, 2)  # Blue channel"
   ]
  },
  {
   "cell_type": "markdown",
   "metadata": {},
   "source": [
    "### Intensity Manipulation: RGB to Gray"
   ]
  },
  {
   "cell_type": "code",
   "execution_count": 8,
   "metadata": {},
   "outputs": [
    {
     "data": {
      "application/vnd.jupyter.widget-view+json": {
       "model_id": "907ebeb5a62a47718c67c3341f3ad87f",
       "version_major": 2,
       "version_minor": 0
      },
      "text/plain": [
       "Canvas(toolbar=Toolbar(toolitems=[('Home', 'Reset original view', 'home', 'home'), ('Back', 'Back to previous …"
      ]
     },
     "metadata": {},
     "output_type": "display_data"
    },
    {
     "data": {
      "text/plain": [
       "<matplotlib.image.AxesImage at 0x1cf29aa6190>"
      ]
     },
     "execution_count": 8,
     "metadata": {},
     "output_type": "execute_result"
    }
   ],
   "source": [
    "# Visualizing the image\n",
    "%matplotlib widget\n",
    "image2 = plt.imread('rgb.jpg')\n",
    "plt.imshow(image2)"
   ]
  },
  {
   "cell_type": "code",
   "execution_count": 9,
   "metadata": {},
   "outputs": [],
   "source": [
    "def RGB2Gray(image): \n",
    "    '''\n",
    "    This function converts an RGB image to grayscale\n",
    "    image: RGB image\n",
    "    '''\n",
    "    %matplotlib widget\n",
    "    #write you code here and visualize the result\n",
    "    gray = 0.3 * image[..., 0] + 0.59 * image[..., 1] + 0.11 * image[..., 2]\n",
    "    \n",
    "    plt.imshow(gray, cmap='gray')\n",
    "    plt.title(\"Grayscale Image\")\n",
    "    plt.axis('off')  # Hide axis\n",
    "    plt.show()\n",
    "    \n",
    "    return gray       #'gray' is grayscale image, converted from RGB image"
   ]
  },
  {
   "cell_type": "code",
   "execution_count": 10,
   "metadata": {},
   "outputs": [
    {
     "data": {
      "application/vnd.jupyter.widget-view+json": {
       "model_id": "7364a1eddc91410e9656b52eb7a0be4f",
       "version_major": 2,
       "version_minor": 0
      },
      "text/plain": [
       "Canvas(toolbar=Toolbar(toolitems=[('Home', 'Reset original view', 'home', 'home'), ('Back', 'Back to previous …"
      ]
     },
     "metadata": {},
     "output_type": "display_data"
    }
   ],
   "source": [
    "#RGB to Gray Scale results\n",
    "gray_image = RGB2Gray(image2)"
   ]
  },
  {
   "cell_type": "markdown",
   "metadata": {},
   "source": [
    "We can also convert a gray image to a binary image.\n",
    "\n",
    "$$\n",
    "I(x, y) = \n",
    "\\begin{cases} \n",
    "1 & \\text{if } I(x, y) \\geq T \\\\\n",
    "0 & \\text{if } I(x, y) < T & \\text{where T is threshold}\n",
    "\\end{cases}\n",
    "$$\n",
    "\n",
    "Though there are proper methods (such as the Otsu method) to find a suitable $T$, we will not go into details of those algorithms and randomly select T values and visualize the result."
   ]
  },
  {
   "cell_type": "code",
   "execution_count": 11,
   "metadata": {},
   "outputs": [],
   "source": [
    "# The threshold T is typically chosen from the range 0 to 255, which corresponds to the possible intensity values of an \n",
    "# 8-bit grayscale image.\n",
    "\n",
    "def Gray2Binary(image,T):\n",
    "    '''\n",
    "    This function converts a gray image to binary based on the rule stated above.\n",
    "    image: image (can be RGB or gray); if the image is RGB, convert it to gray first\n",
    "    T: Threshold\n",
    "    '''\n",
    "\n",
    "    #check if image is RGB if yes, convert it to gray\n",
    "    flag = len(image.shape)\n",
    "    if flag == 3:        #i.e. RGB image, hence to be converted to gray\n",
    "        # write code to convert it to gray or you can call function \"RGB2Gray\" defined in task2.1\n",
    "        gray_image = RGB2Gray(image)\n",
    "\n",
    "    #Write code to threshold image based on the rule stated above and return this binarized image (say it 'bimage')\n",
    "    bimage = np.where(gray_image >= T, 1, 0)\n",
    "\n",
    "\n",
    "    #write code to visualize the resultant image\n",
    "    plt.imshow(bimage, cmap='gray')\n",
    "    plt.title(f'Binary Image with T = {T}')\n",
    "    plt.axis('off')  # Hide axis\n",
    "    plt.show()\n",
    "\n",
    "\n",
    "    return bimage"
   ]
  },
  {
   "cell_type": "code",
   "execution_count": 12,
   "metadata": {},
   "outputs": [
    {
     "data": {
      "application/vnd.jupyter.widget-view+json": {
       "model_id": "4c80c56cd8bc44ec8b7d88ab4cb7e94c",
       "version_major": 2,
       "version_minor": 0
      },
      "text/plain": [
       "Canvas(toolbar=Toolbar(toolitems=[('Home', 'Reset original view', 'home', 'home'), ('Back', 'Back to previous …"
      ]
     },
     "metadata": {},
     "output_type": "display_data"
    }
   ],
   "source": [
    "#Grayscale to binary\n",
    "image3 = plt.imread('rgb.jpg')  # Replace with your image path\n",
    "T = 127  # Set the threshold value\n",
    "bimg = Gray2Binary(image3, T)"
   ]
  },
  {
   "cell_type": "markdown",
   "metadata": {},
   "source": [
    "### Intensity Manipulation: Uniform Brightness Scaling"
   ]
  },
  {
   "cell_type": "markdown",
   "metadata": {},
   "source": [
    "Image is a matrix. \n",
    "\n",
    "Hence we can perform multiplication/division or addition/subtraction operations.\n",
    "\n",
    "These operations will change the brightness value of the image; can make an image brighter or darker depending on the multiplying/scaling factor. \n",
    "\n",
    "For this task, We'll change the image brightness uniformly. Consider scale to be 0.3,0.5,1,2 for four different cases."
   ]
  },
  {
   "cell_type": "code",
   "execution_count": 13,
   "metadata": {},
   "outputs": [],
   "source": [
    "def UniformBrightScaling(image,scale):\n",
    "    '''\n",
    "    This function uniformly increases or decreases the pixel values (of all image locations) by a factor 'scale'.\n",
    "    image: image (can be RGB or gray image)\n",
    "    scale: A scalar by which pixels'svalues need to be multiplied\n",
    "    '''\n",
    "    #write your code here\n",
    "    if len(image.shape) == 3:  # RGB image\n",
    "        gray_image = RGB2Gray(image)\n",
    "    else:\n",
    "        gray_image = image  # It's already a grayscale image\n",
    "        \n",
    "    # Apply the scaling factor to all pixel values\n",
    "    output = gray_image * scale\n",
    "    # Clip the output to ensure pixel values stay within the valid range [0, 1]\n",
    "    output = np.clip(output, 0, 1)\n",
    "\n",
    "    #display the resultant image\n",
    "    plt.imshow(output, cmap='gray')\n",
    "    plt.title(f'Brightness Scaled by {scale}')\n",
    "    plt.axis('off')\n",
    "    plt.show()\n",
    "\n",
    "    return output        #replace output with the variable name you used for final result"
   ]
  },
  {
   "cell_type": "code",
   "execution_count": 14,
   "metadata": {},
   "outputs": [
    {
     "data": {
      "application/vnd.jupyter.widget-view+json": {
       "model_id": "affa57e65fec48c7a3a86b1ce1b23fd9",
       "version_major": 2,
       "version_minor": 0
      },
      "text/plain": [
       "Canvas(toolbar=Toolbar(toolitems=[('Home', 'Reset original view', 'home', 'home'), ('Back', 'Back to previous …"
      ]
     },
     "metadata": {},
     "output_type": "display_data"
    },
    {
     "data": {
      "text/plain": [
       "array([[0.6367843 , 0.6367843 , 0.6367059 , ..., 0.66564703, 0.6082353 ,\n",
       "        0.5031765 ],\n",
       "       [0.6367843 , 0.6367843 , 0.6367059 , ..., 0.66564703, 0.6082353 ,\n",
       "        0.5031765 ],\n",
       "       [0.6367843 , 0.6367843 , 0.6367059 , ..., 0.66564703, 0.6082353 ,\n",
       "        0.5031765 ],\n",
       "       ...,\n",
       "       [0.16635294, 0.16635294, 0.1957255 , ..., 0.4086667 , 0.3924706 ,\n",
       "        0.38576472],\n",
       "       [0.1719608 , 0.1719608 , 0.21372549, ..., 0.40662748, 0.41215685,\n",
       "        0.42380393],\n",
       "       [0.1719608 , 0.1719608 , 0.21372549, ..., 0.40662748, 0.41215685,\n",
       "        0.42380393]], dtype=float32)"
      ]
     },
     "execution_count": 14,
     "metadata": {},
     "output_type": "execute_result"
    }
   ],
   "source": [
    "UniformBrightScaling(image, 1)"
   ]
  },
  {
   "cell_type": "code",
   "execution_count": 15,
   "metadata": {},
   "outputs": [
    {
     "data": {
      "application/vnd.jupyter.widget-view+json": {
       "model_id": "951d6f5ef4a247e9bfbd9ad7cb3510a7",
       "version_major": 2,
       "version_minor": 0
      },
      "text/plain": [
       "Canvas(toolbar=Toolbar(toolitems=[('Home', 'Reset original view', 'home', 'home'), ('Back', 'Back to previous …"
      ]
     },
     "metadata": {},
     "output_type": "display_data"
    },
    {
     "data": {
      "text/plain": [
       "array([[1.        , 1.        , 1.        , ..., 1.        , 1.        ,\n",
       "        1.        ],\n",
       "       [1.        , 1.        , 1.        , ..., 1.        , 1.        ,\n",
       "        1.        ],\n",
       "       [1.        , 1.        , 1.        , ..., 1.        , 1.        ,\n",
       "        1.        ],\n",
       "       ...,\n",
       "       [0.3327059 , 0.3327059 , 0.391451  , ..., 0.8173334 , 0.7849412 ,\n",
       "        0.77152944],\n",
       "       [0.3439216 , 0.3439216 , 0.42745098, ..., 0.81325495, 0.8243137 ,\n",
       "        0.84760785],\n",
       "       [0.3439216 , 0.3439216 , 0.42745098, ..., 0.81325495, 0.8243137 ,\n",
       "        0.84760785]], dtype=float32)"
      ]
     },
     "execution_count": 15,
     "metadata": {},
     "output_type": "execute_result"
    }
   ],
   "source": [
    "UniformBrightScaling(image, 2)"
   ]
  },
  {
   "cell_type": "markdown",
   "metadata": {},
   "source": [
    "### Image Filtering"
   ]
  },
  {
   "cell_type": "markdown",
   "metadata": {},
   "source": [
    "In this section we'll be performing some of the image filtering techniques.\n",
    "\n",
    "Convolution is one of the most widely used operations for images.\n",
    "\n",
    "Convolution can be used as a feature extractor; different kernel results in various types of features."
   ]
  },
  {
   "cell_type": "markdown",
   "metadata": {},
   "source": [
    "#### Sobel Filter and Gaussian Filter implementation"
   ]
  },
  {
   "cell_type": "code",
   "execution_count": 16,
   "metadata": {},
   "outputs": [],
   "source": [
    "def feature_extractor(image,kernel):\n",
    "    '''\n",
    "    This function performs convolution operation to a gray image. We will consider 3*3 kernel here.\n",
    "    In general kernel can have shape (2n+1) * (2n+1)  where n>= 0\n",
    "    image: image (can be RGB or gray); if RGB convert it to gray\n",
    "    kernel: 3*3 convolution kernel\n",
    "    '''\n",
    "    # first convert RGB to gray if input is RGB image\n",
    "\n",
    "    l = len(image.shape)\n",
    "\n",
    "    if l == 3:\n",
    "        #write code to convert it to gray scale\n",
    "        image = RGB2Gray(image)\n",
    "\n",
    "    # write code to create a zero array of size (r,c) which will store the resultant value at specific pixel locations (say it output)\n",
    "    r, c = image.shape\n",
    "    output = np.zeros((r, c))\n",
    "\n",
    "\n",
    "    #write code to create a zero array with size (r+2,c+2) if (r,c) is the gray image size.  (say it pad_img)\n",
    "    pad_img = np.pad(image, ((1, 1), (1, 1)), mode='constant', constant_values=0)\n",
    "\n",
    "    #write code to convolve the image        \n",
    "    for row in range(1, r + 1):\n",
    "        for col in range(1, c + 1):\n",
    "            # Select 3x3 patch with the center at (row, col)\n",
    "            patch = pad_img[row-1:row+2, col-1:col+2]\n",
    "\n",
    "            # Perform element-wise multiplication between the patch and the kernel, then sum the result\n",
    "            output[row-1, col-1] = np.sum(patch * kernel)\n",
    "\n",
    "    return output\n",
    "\n",
    "sobel_kernel = np.array([[1, 0, -1],\n",
    "                         [1, 0, -1],\n",
    "                         [0, 0, 0]])\n",
    "\n",
    "sobel_kernel2 = np.array([[1, 2, 1],\n",
    "                         [0, 0, 0],\n",
    "                         [-1, -2, -1]])\n",
    "\n",
    "gaussian_kernel = np.array([[1, 2, 1],\n",
    "                            [2, 4, 2],\n",
    "                            [1, 2, 1]]) / 16\n"
   ]
  },
  {
   "cell_type": "code",
   "execution_count": 17,
   "metadata": {},
   "outputs": [
    {
     "data": {
      "application/vnd.jupyter.widget-view+json": {
       "model_id": "b901a7e191d24244893ed361173633cb",
       "version_major": 2,
       "version_minor": 0
      },
      "text/plain": [
       "Canvas(toolbar=Toolbar(toolitems=[('Home', 'Reset original view', 'home', 'home'), ('Back', 'Back to previous …"
      ]
     },
     "metadata": {},
     "output_type": "display_data"
    }
   ],
   "source": [
    "#Sobel Filter results\n",
    "filtered_image = feature_extractor(image, sobel_kernel)\n",
    "plt.imshow(filtered_image, cmap='gray')\n",
    "plt.title(\"Filtered Image\")\n",
    "plt.axis('off')\n",
    "plt.show()"
   ]
  },
  {
   "cell_type": "code",
   "execution_count": 18,
   "metadata": {},
   "outputs": [
    {
     "data": {
      "application/vnd.jupyter.widget-view+json": {
       "model_id": "0759fd3a630d4bec95d938c57980102c",
       "version_major": 2,
       "version_minor": 0
      },
      "text/plain": [
       "Canvas(toolbar=Toolbar(toolitems=[('Home', 'Reset original view', 'home', 'home'), ('Back', 'Back to previous …"
      ]
     },
     "metadata": {},
     "output_type": "display_data"
    }
   ],
   "source": [
    "#Gaussian Filter results\n",
    "filtered_image = feature_extractor(image, gaussian_kernel)\n",
    "plt.imshow(filtered_image, cmap='gray')\n",
    "plt.title(\"Filtered Image\")\n",
    "plt.axis('off')\n",
    "plt.show()"
   ]
  },
  {
   "cell_type": "markdown",
   "metadata": {},
   "source": [
    "### Transformation: Rotation"
   ]
  },
  {
   "cell_type": "code",
   "execution_count": 19,
   "metadata": {},
   "outputs": [],
   "source": [
    "def rotate_image(image, angle):\n",
    "    %matplotlib widget\n",
    "    \"\"\"\n",
    "    Rotate an image by a given angle (in degrees) using only numpy and matplotlib.\n",
    "    \n",
    "    Parameters:\n",
    "        image : numpy.ndarray\n",
    "            Input image (RGB or grayscale).\n",
    "        angle : float\n",
    "            Angle in degrees. Positive = counter-clockwise, Negative = clockwise.\n",
    "    \n",
    "    Returns:\n",
    "        rotated : numpy.ndarray\n",
    "            Rotated image.\n",
    "    \"\"\"\n",
    "    # Convert angle to radians\n",
    "    theta = np.deg2rad(angle)\n",
    "    \n",
    "    # Rotation matrix\n",
    "    rotation_matrix = np.array([\n",
    "        [np.cos(theta), -np.sin(theta)],\n",
    "        [np.sin(theta),  np.cos(theta)]\n",
    "    ])\n",
    "    \n",
    "    # Image dimensions\n",
    "    h, w = image.shape[:2]\n",
    "    \n",
    "    # Coordinates of corners\n",
    "    corners = np.array([\n",
    "        [-w/2, -h/2],\n",
    "        [ w/2, -h/2],\n",
    "        [ w/2,  h/2],\n",
    "        [-w/2,  h/2]\n",
    "    ])\n",
    "    \n",
    "    # Rotate corners to find new image bounds\n",
    "    new_corners = np.dot(corners, rotation_matrix.T)\n",
    "    min_x, min_y = new_corners.min(axis=0)\n",
    "    max_x, max_y = new_corners.max(axis=0)\n",
    "    \n",
    "    new_w = int(np.ceil(max_x - min_x))\n",
    "    new_h = int(np.ceil(max_y - min_y))\n",
    "    \n",
    "    # Create grid for new image\n",
    "    y_idx, x_idx = np.indices((new_h, new_w))\n",
    "    x_coords = x_idx - new_w/2\n",
    "    y_coords = y_idx - new_h/2\n",
    "    \n",
    "    coords = np.stack([x_coords.ravel(), y_coords.ravel()], axis=1)\n",
    "    \n",
    "    # Apply inverse rotation\n",
    "    inv_rotation = np.linalg.inv(rotation_matrix)\n",
    "    original_coords = np.dot(coords, inv_rotation.T)\n",
    "    \n",
    "    orig_x = (original_coords[:,0] + w/2).reshape((new_h, new_w))\n",
    "    orig_y = (original_coords[:,1] + h/2).reshape((new_h, new_w))\n",
    "    \n",
    "    # Initialize rotated image\n",
    "    if image.ndim == 3:\n",
    "        rotated = np.zeros((new_h, new_w, image.shape[2]), dtype=image.dtype)\n",
    "    else:\n",
    "        rotated = np.zeros((new_h, new_w), dtype=image.dtype)\n",
    "    \n",
    "    # Nearest neighbor interpolation\n",
    "    orig_x_round = np.round(orig_x).astype(int)\n",
    "    orig_y_round = np.round(orig_y).astype(int)\n",
    "    \n",
    "    valid_mask = (\n",
    "        (orig_x_round >= 0) & (orig_x_round < w) &\n",
    "        (orig_y_round >= 0) & (orig_y_round < h)\n",
    "    )\n",
    "    \n",
    "    if image.ndim == 3:\n",
    "        rotated[valid_mask] = image[orig_y_round[valid_mask], orig_x_round[valid_mask], :]\n",
    "    else:\n",
    "        rotated[valid_mask] = image[orig_y_round[valid_mask], orig_x_round[valid_mask]]\n",
    "    \n",
    "    # Show rotated image\n",
    "    plt.imshow(rotated, cmap=\"gray\" if image.ndim==2 else None)\n",
    "    plt.title(f\"Rotated by {angle}°\")\n",
    "    plt.axis(\"off\")\n",
    "    plt.show()\n",
    "    \n",
    "    return rotated\n"
   ]
  },
  {
   "cell_type": "code",
   "execution_count": 20,
   "metadata": {},
   "outputs": [
    {
     "data": {
      "application/vnd.jupyter.widget-view+json": {
       "model_id": "ddbcd1ddd79b4842b1eb4fa5c56d5dfe",
       "version_major": 2,
       "version_minor": 0
      },
      "text/plain": [
       "Canvas(toolbar=Toolbar(toolitems=[('Home', 'Reset original view', 'home', 'home'), ('Back', 'Back to previous …"
      ]
     },
     "metadata": {},
     "output_type": "display_data"
    },
    {
     "data": {
      "text/plain": [
       "array([[[0., 0., 0.],\n",
       "        [0., 0., 0.],\n",
       "        [0., 0., 0.],\n",
       "        ...,\n",
       "        [0., 0., 0.],\n",
       "        [0., 0., 0.],\n",
       "        [0., 0., 0.]],\n",
       "\n",
       "       [[0., 0., 0.],\n",
       "        [0., 0., 0.],\n",
       "        [0., 0., 0.],\n",
       "        ...,\n",
       "        [0., 0., 0.],\n",
       "        [0., 0., 0.],\n",
       "        [0., 0., 0.]],\n",
       "\n",
       "       [[0., 0., 0.],\n",
       "        [0., 0., 0.],\n",
       "        [0., 0., 0.],\n",
       "        ...,\n",
       "        [0., 0., 0.],\n",
       "        [0., 0., 0.],\n",
       "        [0., 0., 0.]],\n",
       "\n",
       "       ...,\n",
       "\n",
       "       [[0., 0., 0.],\n",
       "        [0., 0., 0.],\n",
       "        [0., 0., 0.],\n",
       "        ...,\n",
       "        [0., 0., 0.],\n",
       "        [0., 0., 0.],\n",
       "        [0., 0., 0.]],\n",
       "\n",
       "       [[0., 0., 0.],\n",
       "        [0., 0., 0.],\n",
       "        [0., 0., 0.],\n",
       "        ...,\n",
       "        [0., 0., 0.],\n",
       "        [0., 0., 0.],\n",
       "        [0., 0., 0.]],\n",
       "\n",
       "       [[0., 0., 0.],\n",
       "        [0., 0., 0.],\n",
       "        [0., 0., 0.],\n",
       "        ...,\n",
       "        [0., 0., 0.],\n",
       "        [0., 0., 0.],\n",
       "        [0., 0., 0.]]], dtype=float32)"
      ]
     },
     "execution_count": 20,
     "metadata": {},
     "output_type": "execute_result"
    }
   ],
   "source": [
    "#Rotation results\n",
    "rotate_image(image, 9)"
   ]
  },
  {
   "cell_type": "markdown",
   "metadata": {},
   "source": [
    "### Edge Detection"
   ]
  },
  {
   "cell_type": "markdown",
   "metadata": {},
   "source": [
    "Canny Edge Detection"
   ]
  },
  {
   "cell_type": "code",
   "execution_count": 21,
   "metadata": {},
   "outputs": [],
   "source": [
    "def gaussian_kernel(size=5, sigma=1.0):\n",
    "    \"\"\"Generate a Gaussian kernel.\"\"\"\n",
    "    ax = np.linspace(-(size//2), size//2, size)\n",
    "    xx, yy = np.meshgrid(ax, ax)\n",
    "    kernel = np.exp(-(xx**2 + yy**2) / (2 * sigma**2))\n",
    "    return kernel / np.sum(kernel)\n",
    "\n",
    "def convolve(image, kernel):\n",
    "    \"\"\"Convolve 2D kernel over a grayscale image.\"\"\"\n",
    "    h, w = image.shape\n",
    "    kh, kw = kernel.shape\n",
    "    pad_h, pad_w = kh//2, kw//2\n",
    "    padded = np.pad(image, ((pad_h,pad_h),(pad_w,pad_w)), mode='edge')\n",
    "    result = np.zeros_like(image, dtype=np.float64)\n",
    "    for i in range(h):\n",
    "        for j in range(w):\n",
    "            region = padded[i:i+kh, j:j+kw]\n",
    "            result[i,j] = np.sum(region * kernel)\n",
    "    return result\n",
    "\n",
    "def sobel_filters(img):\n",
    "    \"\"\"Compute gradients using Sobel filters.\"\"\"\n",
    "    Kx = np.array([[-1,0,1],[-2,0,2],[-1,0,1]])\n",
    "    Ky = np.array([[-1,-2,-1],[0,0,0],[1,2,1]])\n",
    "    Gx = convolve(img, Kx)\n",
    "    Gy = convolve(img, Ky)\n",
    "    magnitude = np.hypot(Gx, Gy)\n",
    "    magnitude = magnitude / magnitude.max() * 255\n",
    "    direction = np.arctan2(Gy, Gx)\n",
    "    return magnitude, direction\n",
    "\n",
    "def non_maximum_suppression(mag, dir):\n",
    "    \"\"\"Thin edges using non-maximum suppression.\"\"\"\n",
    "    H, W = mag.shape\n",
    "    Z = np.zeros((H,W), dtype=np.float64)\n",
    "    angle = dir * 180. / np.pi\n",
    "    angle[angle < 0] += 180\n",
    "\n",
    "    for i in range(1,H-1):\n",
    "        for j in range(1,W-1):\n",
    "            q = 255\n",
    "            r = 255\n",
    "            # Check neighbours in the gradient direction\n",
    "            if (0 <= angle[i,j] < 22.5) or (157.5 <= angle[i,j] <= 180):\n",
    "                q = mag[i, j+1]\n",
    "                r = mag[i, j-1]\n",
    "            elif (22.5 <= angle[i,j] < 67.5):\n",
    "                q = mag[i+1, j-1]\n",
    "                r = mag[i-1, j+1]\n",
    "            elif (67.5 <= angle[i,j] < 112.5):\n",
    "                q = mag[i+1, j]\n",
    "                r = mag[i-1, j]\n",
    "            elif (112.5 <= angle[i,j] < 157.5):\n",
    "                q = mag[i-1, j-1]\n",
    "                r = mag[i+1, j+1]\n",
    "\n",
    "            if (mag[i,j] >= q) and (mag[i,j] >= r):\n",
    "                Z[i,j] = mag[i,j]\n",
    "            else:\n",
    "                Z[i,j] = 0\n",
    "    return Z\n",
    "\n",
    "def threshold(img, low_ratio=0.05, high_ratio=0.15):\n",
    "    \"\"\"Double thresholding.\"\"\"\n",
    "    high = img.max() * high_ratio\n",
    "    low = high * low_ratio\n",
    "    \n",
    "    strong = 255\n",
    "    weak = 75\n",
    "    \n",
    "    res = np.zeros_like(img, dtype=np.uint8)\n",
    "    strong_i, strong_j = np.where(img >= high)\n",
    "    weak_i, weak_j = np.where((img <= high) & (img >= low))\n",
    "    \n",
    "    res[strong_i, strong_j] = strong\n",
    "    res[weak_i, weak_j] = weak\n",
    "    \n",
    "    return res, weak, strong\n",
    "\n",
    "def hysteresis(img, weak=75, strong=255):\n",
    "    \"\"\"Edge tracking by hysteresis.\"\"\"\n",
    "    H, W = img.shape\n",
    "    for i in range(1, H-1):\n",
    "        for j in range(1, W-1):\n",
    "            if img[i,j] == weak:\n",
    "                if np.any(img[i-1:i+2, j-1:j+2] == strong):\n",
    "                    img[i,j] = strong\n",
    "                else:\n",
    "                    img[i,j] = 0\n",
    "    return img\n",
    "\n",
    "def canny_edge(image, sigma=1.0, low_ratio=0.05, high_ratio=0.15):\n",
    "    %matplotlib widget\n",
    "    \"\"\"Canny Edge Detection (NumPy + Matplotlib).\"\"\"\n",
    "    # Ensure grayscale\n",
    "    if image.ndim == 3:\n",
    "        image = np.dot(image[...,:3], [0.299, 0.587, 0.114])\n",
    "    \n",
    "    # Step 1: Gaussian smoothing\n",
    "    kernel = gaussian_kernel(size=5, sigma=sigma)\n",
    "    smoothed = convolve(image, kernel)\n",
    "    \n",
    "    # Step 2: Gradients\n",
    "    mag, direction = sobel_filters(smoothed)\n",
    "    \n",
    "    # Step 3: Non-maximum suppression\n",
    "    nms = non_maximum_suppression(mag, direction)\n",
    "    \n",
    "    # Step 4: Double thresholding\n",
    "    thresh, weak, strong = threshold(nms, low_ratio, high_ratio)\n",
    "    \n",
    "    # Step 5: Hysteresis\n",
    "    edges = hysteresis(thresh, weak, strong)\n",
    "    \n",
    "    return edges"
   ]
  },
  {
   "cell_type": "code",
   "execution_count": 23,
   "metadata": {},
   "outputs": [
    {
     "data": {
      "application/vnd.jupyter.widget-view+json": {
       "model_id": "ddd8ae29b8e248f9a75b394980e485f4",
       "version_major": 2,
       "version_minor": 0
      },
      "text/plain": [
       "Canvas(toolbar=Toolbar(toolitems=[('Home', 'Reset original view', 'home', 'home'), ('Back', 'Back to previous …"
      ]
     },
     "metadata": {},
     "output_type": "display_data"
    }
   ],
   "source": [
    "edges = canny_edge(image, sigma=1.4, low_ratio=0.05, high_ratio=0.15)\n",
    "\n",
    "plt.figure(figsize=(12,6))\n",
    "plt.subplot(1,2,1)\n",
    "plt.imshow(image, cmap='gray' if image.ndim==2 else None)\n",
    "plt.title(\"Original Image\")\n",
    "plt.axis(\"off\")\n",
    "\n",
    "plt.subplot(1,2,2)\n",
    "plt.imshow(edges, cmap='gray')\n",
    "plt.title(\"Canny Edges\")\n",
    "plt.axis(\"off\")\n",
    "plt.show()"
   ]
  },
  {
   "cell_type": "code",
   "execution_count": null,
   "metadata": {},
   "outputs": [],
   "source": []
  }
 ],
 "metadata": {
  "kernelspec": {
   "display_name": "Python 3",
   "language": "python",
   "name": "python3"
  },
  "language_info": {
   "codemirror_mode": {
    "name": "ipython",
    "version": 3
   },
   "file_extension": ".py",
   "mimetype": "text/x-python",
   "name": "python",
   "nbconvert_exporter": "python",
   "pygments_lexer": "ipython3",
   "version": "3.8.5"
  }
 },
 "nbformat": 4,
 "nbformat_minor": 4
}
